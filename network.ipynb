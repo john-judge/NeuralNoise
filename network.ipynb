{
 "cells": [
  {
   "cell_type": "code",
   "execution_count": 228,
   "metadata": {},
   "outputs": [],
   "source": [
    "from matplotlib import pyplot as plt\n",
    "import numpy as np\n",
    "from PIL import Image\n",
    "from random import random"
   ]
  },
  {
   "cell_type": "code",
   "execution_count": 229,
   "metadata": {},
   "outputs": [],
   "source": [
    "time_steps = 11\n",
    "\n",
    "n = 20\n",
    "p = 3  # place p files \"pattern<i>.png\" that are n x n images or bigger\n",
    "U = 0  # threshold for all BTU's\n",
    "T = 45 # network temperature\n"
   ]
  },
  {
   "cell_type": "code",
   "execution_count": 230,
   "metadata": {},
   "outputs": [],
   "source": [
    "def binary_threshold(a, thresh=0):\n",
    "    return np.where(a > thresh, 1, -1)\n",
    "\n",
    "def show_binary_image(img):\n",
    "    img = np.where(img > 0, 255, 0)\n",
    "    plt.imshow(img)\n",
    "    \n",
    "def px_to_ind(x, y):\n",
    "    return x * n + y\n",
    "\n",
    "def ind_to_px(i):\n",
    "    return i // n, i % n"
   ]
  },
  {
   "cell_type": "code",
   "execution_count": 231,
   "metadata": {},
   "outputs": [],
   "source": [
    "network = np.zeros(shape=(time_steps, n, n), dtype=np.int8)\n",
    "patterns = np.zeros(shape=(p, n, n), dtype=np.int8)\n",
    "\n",
    "for i in range(p):\n",
    "    filename = \"pattern\" + str(i) + \".png\"\n",
    "    img = Image.open(filename).convert('L')\n",
    "    data = np.array(img, dtype='uint8')[:n, :n]\n",
    "    \n",
    "    patterns[i, : , :] = data\n",
    "\n",
    "patterns = np.where(patterns == 0, 1, -1)\n",
    "#show_binary_image(patterns[5])"
   ]
  },
  {
   "cell_type": "code",
   "execution_count": 232,
   "metadata": {},
   "outputs": [
    {
     "data": {
      "image/png": "[encoded data removed]",
      "text/plain": [
       "<Figure size 432x288 with 1 Axes>"
      ]
     },
     "metadata": {
      "needs_background": "light"
     },
     "output_type": "display_data"
    }
   ],
   "source": [
    "show_binary_image(patterns[1])"
   ]
  },
  {
   "cell_type": "code",
   "execution_count": 233,
   "metadata": {},
   "outputs": [
    {
     "data": {
      "image/png": "[encoded data removed]",
      "text/plain": [
       "<Figure size 432x288 with 1 Axes>"
      ]
     },
     "metadata": {
      "needs_background": "light"
     },
     "output_type": "display_data"
    }
   ],
   "source": [
    "show_binary_image(patterns[2])"
   ]
  },
  {
   "cell_type": "code",
   "execution_count": 234,
   "metadata": {},
   "outputs": [
    {
     "name": "stdout",
     "output_type": "stream",
     "text": [
      "0.06836875 of the connections are negative\n"
     ]
    }
   ],
   "source": [
    "# Populate synaptic strengths\n",
    "synapses = np.zeros(shape=(n*n, n*n), dtype=np.int32)\n",
    "\n",
    "# constants\n",
    "epsilon = 1\n",
    "alpha = 5\n",
    "beta = 5\n",
    "\n",
    "for i in range(n*n):\n",
    "    for j in range(n*n):\n",
    "        xi, yi = ind_to_px(i)\n",
    "        xj, yj = ind_to_px(j)\n",
    "\n",
    "        for v in range(p):\n",
    "            \n",
    "            # create basins of attraction\n",
    "            synapses[i, j] += epsilon * patterns[v, xi, yi] * patterns[v, xj, yj]\n",
    "\n",
    "            # transition forward excitation\n",
    "            if v > 0:\n",
    "                synapses[i, j] += alpha * patterns[v-1, xi, yi] * patterns[v, xj, yj]\n",
    "\n",
    "            # transition backward inhibition\n",
    "            if v < p-1:\n",
    "                synapses[i, j] -= beta * patterns[v+1, xi, yi] * patterns[v, xj, yj]\n",
    "\n",
    "\n",
    "print(np.sum(synapses < 0) / n**4, \"of the connections are negative\")"
   ]
  },
  {
   "cell_type": "code",
   "execution_count": 235,
   "metadata": {},
   "outputs": [
    {
     "name": "stdout",
     "output_type": "stream",
     "text": [
      "Time step: 1\n",
      "Time step: 2\n",
      "Time step: 3\n",
      "Time step: 4\n",
      "Time step: 5\n",
      "Time step: 6\n",
      "Time step: 7\n",
      "Time step: 8\n",
      "Time step: 9\n",
      "Time step: 10\n"
     ]
    },
    {
     "data": {
      "image/png": "[encoded data removed]",
      "text/plain": [
       "<Figure size 432x288 with 1 Axes>"
      ]
     },
     "metadata": {
      "needs_background": "light"
     },
     "output_type": "display_data"
    }
   ],
   "source": [
    "def sigmoidal(x, U, T):\n",
    "    return 1 / (1 + np.exp(-x - U) / T)\n",
    "\n",
    "def update(network, t, prob=0.5):\n",
    "    for x in range(n):\n",
    "        for y in range(n):\n",
    "            for x_neigh in range(n):\n",
    "                for y_neigh in range(n):\n",
    "                    network[t+1, x, y] += synapses[px_to_ind(x,y), px_to_ind(x_neigh, y_neigh)] * network[t, x_neigh, y_neigh]\n",
    "            f = sigmoidal(network[t+1, x, y], U, T)\n",
    "            if f > random():\n",
    "                network[t+1, x, y] = 1\n",
    "            else:\n",
    "                network[t+1, x, y] = -1\n",
    "\n",
    "    \n",
    "# init\n",
    "network[0, :, :] = patterns[0]\n",
    "\n",
    "for t in range(time_steps-1):\n",
    "    print(\"Time step:\", t+1)\n",
    "    update(network, t, prob=update_prob)\n",
    "    plt.imshow(network[t])\n",
    "    plt.savefig(\"time\" + str(t) + \".png\")\n",
    "\n",
    "plt.imshow(network[time_steps-1])\n",
    "plt.savefig(\"time\" + str(time_steps-1) + \".png\")"
   ]
  }
 ],
 "metadata": {
  "kernelspec": {
   "display_name": "Python 3 (ipykernel)",
   "language": "python",
   "name": "python3"
  },
  "language_info": {
   "codemirror_mode": {
    "name": "ipython",
    "version": 3
   },
   "file_extension": ".py",
   "mimetype": "text/x-python",
   "name": "python",
   "nbconvert_exporter": "python",
   "pygments_lexer": "ipython3",
   "version": "3.9.7"
  }
 },
 "nbformat": 4,
 "nbformat_minor": 4
}
